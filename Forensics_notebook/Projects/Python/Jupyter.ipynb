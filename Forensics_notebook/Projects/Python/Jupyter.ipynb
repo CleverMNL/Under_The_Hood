{
 "cells": [
  {
   "cell_type": "markdown",
   "metadata": {},
   "source": [
    "Jupyter is a project that does so much it would be remiss to cover it lightly. It supports over 40 programming languages (for the longest time I thought it was built solely for python- how naive). It is a tool that helps streamline collaboration on projects and creates direct interactivity like no others. I will perhaps use it it my other project files but the only draw back is the length. It is more suited for projects with limited dependabilities and external file usage. Here is the official page: https://jupyter.org/ which covers why it is so amazing. I do not have to sing high praise for this project as it does not need any, it simply is. Some projects I have that exist outside of this Repository include transcriptions of book in cryprography and web security in Python. \n",
    "\n",
    "<html>\n",
    "    <style>\n",
    "        p {\n",
    "            text-size: 12px;\n",
    "        }\n",
    "    </style>\n",
    "    <body>\n",
    "        <h3>\n",
    "            Hello World\n",
    "        </h3>\n",
    "        <section>\n",
    "            <p>This is a fun aspect of Jupyter too, it can implement HTML and CSS directly into its markdown</p>\n",
    "        </section>\n",
    "    </body>\n",
    "</html>"
   ]
  },
  {
   "cell_type": "code",
   "execution_count": 1,
   "metadata": {},
   "outputs": [
    {
     "name": "stdout",
     "output_type": "stream",
     "text": [
      "Hello World\n"
     ]
    }
   ],
   "source": [
    "# I wonder if I can use multiple languages in the same page? Probably not because it would conflict with kernels and memory.\n",
    "\n",
    "def hello_world():\n",
    "    print(\"Hello World\")\n",
    "\n",
    "hello_world()"
   ]
  },
  {
   "cell_type": "code",
   "execution_count": null,
   "metadata": {
    "vscode": {
     "languageId": "ruby"
    }
   },
   "outputs": [],
   "source": [
    "# Lets see if this works\n",
    "# puts \"Hello World\"\n",
    "\n",
    "# print \"I hope this works\"\n",
    "\n",
    "# That results in a Syntax error, interesting.\n",
    "\n",
    "def sayHi\n",
    "   puts \"Hello People\"\n",
    "end  # I do dislike those closing statements\n",
    "\n",
    "# It seems to not work"
   ]
  },
  {
   "cell_type": "code",
   "execution_count": null,
   "metadata": {
    "vscode": {
     "languageId": "javascript"
    }
   },
   "outputs": [],
   "source": [
    "console.log(\"Hello World in JS\");\n",
    "\n",
    "// Using another method to see if it works\n",
    "alert(\"Hello ppl in JS\");\n",
    "\n",
    "// GET a synax error, does not work"
   ]
  }
 ],
 "metadata": {
  "kernelspec": {
   "display_name": "base",
   "language": "python",
   "name": "python3"
  },
  "language_info": {
   "codemirror_mode": {
    "name": "ipython",
    "version": 3
   },
   "file_extension": ".py",
   "mimetype": "text/x-python",
   "name": "python",
   "nbconvert_exporter": "python",
   "pygments_lexer": "ipython3",
   "version": "3.10.9"
  }
 },
 "nbformat": 4,
 "nbformat_minor": 2
}
